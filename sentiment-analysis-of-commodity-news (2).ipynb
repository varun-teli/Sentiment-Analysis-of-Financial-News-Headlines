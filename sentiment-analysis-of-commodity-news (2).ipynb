{
 "cells": [
  {
   "cell_type": "code",
   "execution_count": 1,
   "metadata": {
    "_cell_guid": "b1076dfc-b9ad-4769-8c92-a6c4dae69d19",
    "_uuid": "8f2839f25d086af736a60e9eeb907d3b93b6e0e5",
    "execution": {
     "iopub.execute_input": "2021-11-08T13:03:35.929224Z",
     "iopub.status.busy": "2021-11-08T13:03:35.928873Z",
     "iopub.status.idle": "2021-11-08T13:03:35.935309Z",
     "shell.execute_reply": "2021-11-08T13:03:35.934544Z",
     "shell.execute_reply.started": "2021-11-08T13:03:35.929192Z"
    }
   },
   "outputs": [],
   "source": [
    "#Load packages\n",
    "import numpy as np\n",
    "import pandas as pd\n",
    "\n",
    "from sklearn.feature_extraction.text import TfidfVectorizer\n",
    "from sklearn.model_selection import train_test_split\n",
    "from sklearn.metrics import accuracy_score, f1_score, recall_score, precision_score, confusion_matrix\n",
    "from sklearn.svm import SVC\n",
    "import re"
   ]
  },
  {
   "cell_type": "code",
   "execution_count": 2,
   "metadata": {
    "execution": {
     "iopub.execute_input": "2021-11-08T13:06:40.444399Z",
     "iopub.status.busy": "2021-11-08T13:06:40.444085Z",
     "iopub.status.idle": "2021-11-08T13:06:40.494426Z",
     "shell.execute_reply": "2021-11-08T13:06:40.493798Z",
     "shell.execute_reply.started": "2021-11-08T13:06:40.444369Z"
    }
   },
   "outputs": [],
   "source": [
    "#Load dataset\n",
    "df = pd.read_csv(\"V:\\GOLD SENTIMENT ANALYSIS/gold headlines.csv\")"
   ]
  },
  {
   "cell_type": "markdown",
   "metadata": {},
   "source": [
    "## The Price Sentiment column contains 4 classes (positive, neutral, negative and none)\n",
    "* Positive denotes upward movement in price\n",
    "* Negative denotes downward movement in price\n",
    "* Neutral denotes sideways (steady) movement in price\n",
    "* None denotes that no assessment about prices can be made from the news headline\n",
    "\n",
    "### Let us ignore the news headlines that do not have any price movement information in it, i.e. drop rows with \"Price Sentiment\" as 'none'"
   ]
  },
  {
   "cell_type": "code",
   "execution_count": 3,
   "metadata": {
    "execution": {
     "iopub.execute_input": "2021-11-08T13:01:34.517233Z",
     "iopub.status.busy": "2021-11-08T13:01:34.516839Z",
     "iopub.status.idle": "2021-11-08T13:01:34.529388Z",
     "shell.execute_reply": "2021-11-08T13:01:34.528157Z",
     "shell.execute_reply.started": "2021-11-08T13:01:34.517198Z"
    }
   },
   "outputs": [],
   "source": [
    "df = df[df[\"Price Sentiment\"] != 'none']"
   ]
  },
  {
   "cell_type": "code",
   "execution_count": 4,
   "metadata": {
    "execution": {
     "iopub.execute_input": "2021-11-08T13:01:35.628790Z",
     "iopub.status.busy": "2021-11-08T13:01:35.627466Z",
     "iopub.status.idle": "2021-11-08T13:01:35.653258Z",
     "shell.execute_reply": "2021-11-08T13:01:35.652260Z",
     "shell.execute_reply.started": "2021-11-08T13:01:35.628707Z"
    }
   },
   "outputs": [
    {
     "name": "stdout",
     "output_type": "stream",
     "text": [
      "Commodity News Headlines\n"
     ]
    },
    {
     "data": {
      "text/html": [
       "<div>\n",
       "<style scoped>\n",
       "    .dataframe tbody tr th:only-of-type {\n",
       "        vertical-align: middle;\n",
       "    }\n",
       "\n",
       "    .dataframe tbody tr th {\n",
       "        vertical-align: top;\n",
       "    }\n",
       "\n",
       "    .dataframe thead th {\n",
       "        text-align: right;\n",
       "    }\n",
       "</style>\n",
       "<table border=\"1\" class=\"dataframe\">\n",
       "  <thead>\n",
       "    <tr style=\"text-align: right;\">\n",
       "      <th></th>\n",
       "      <th>News</th>\n",
       "      <th>Price Sentiment</th>\n",
       "    </tr>\n",
       "  </thead>\n",
       "  <tbody>\n",
       "    <tr>\n",
       "      <th>0</th>\n",
       "      <td>april gold down 20 cents to settle at $1,116.1...</td>\n",
       "      <td>negative</td>\n",
       "    </tr>\n",
       "    <tr>\n",
       "      <th>1</th>\n",
       "      <td>gold suffers third straight daily decline</td>\n",
       "      <td>negative</td>\n",
       "    </tr>\n",
       "    <tr>\n",
       "      <th>2</th>\n",
       "      <td>Gold futures edge up after two-session decline</td>\n",
       "      <td>positive</td>\n",
       "    </tr>\n",
       "    <tr>\n",
       "      <th>4</th>\n",
       "      <td>Gold snaps three-day rally as Trump, lawmakers...</td>\n",
       "      <td>negative</td>\n",
       "    </tr>\n",
       "    <tr>\n",
       "      <th>5</th>\n",
       "      <td>Dec. gold climbs $9.40, or 0.7%, to settle at ...</td>\n",
       "      <td>positive</td>\n",
       "    </tr>\n",
       "    <tr>\n",
       "      <th>...</th>\n",
       "      <td>...</td>\n",
       "      <td>...</td>\n",
       "    </tr>\n",
       "    <tr>\n",
       "      <th>10565</th>\n",
       "      <td>gold seen falling from 3-week high this week</td>\n",
       "      <td>negative</td>\n",
       "    </tr>\n",
       "    <tr>\n",
       "      <th>10566</th>\n",
       "      <td>dominic frisby : now looks like a good time to...</td>\n",
       "      <td>positive</td>\n",
       "    </tr>\n",
       "    <tr>\n",
       "      <th>10567</th>\n",
       "      <td>Gold heading for worst week since November on ...</td>\n",
       "      <td>negative</td>\n",
       "    </tr>\n",
       "    <tr>\n",
       "      <th>10568</th>\n",
       "      <td>august gold up $7.60 at $878.80 an ounce on nymex</td>\n",
       "      <td>positive</td>\n",
       "    </tr>\n",
       "    <tr>\n",
       "      <th>10569</th>\n",
       "      <td>december gold down $1 at $749 an ounce on nymex</td>\n",
       "      <td>negative</td>\n",
       "    </tr>\n",
       "  </tbody>\n",
       "</table>\n",
       "<p>8602 rows × 2 columns</p>\n",
       "</div>"
      ],
      "text/plain": [
       "                                                    News Price Sentiment\n",
       "0      april gold down 20 cents to settle at $1,116.1...        negative\n",
       "1              gold suffers third straight daily decline        negative\n",
       "2         Gold futures edge up after two-session decline        positive\n",
       "4      Gold snaps three-day rally as Trump, lawmakers...        negative\n",
       "5      Dec. gold climbs $9.40, or 0.7%, to settle at ...        positive\n",
       "...                                                  ...             ...\n",
       "10565       gold seen falling from 3-week high this week        negative\n",
       "10566  dominic frisby : now looks like a good time to...        positive\n",
       "10567  Gold heading for worst week since November on ...        negative\n",
       "10568  august gold up $7.60 at $878.80 an ounce on nymex        positive\n",
       "10569    december gold down $1 at $749 an ounce on nymex        negative\n",
       "\n",
       "[8602 rows x 2 columns]"
      ]
     },
     "metadata": {},
     "output_type": "display_data"
    }
   ],
   "source": [
    "print(\"Commodity News Headlines\")\n",
    "display(df[[\"News\",\"Price Sentiment\"]])"
   ]
  },
  {
   "cell_type": "markdown",
   "metadata": {},
   "source": [
    "### The following piece of code is used to clean the headlines"
   ]
  },
  {
   "cell_type": "code",
   "execution_count": 5,
   "metadata": {
    "execution": {
     "iopub.execute_input": "2021-11-08T13:01:37.061170Z",
     "iopub.status.busy": "2021-11-08T13:01:37.060071Z",
     "iopub.status.idle": "2021-11-08T13:01:37.068903Z",
     "shell.execute_reply": "2021-11-08T13:01:37.067667Z",
     "shell.execute_reply.started": "2021-11-08T13:01:37.061069Z"
    }
   },
   "outputs": [],
   "source": [
    "def cleaner(impure_data):\n",
    "    temp_list = []\n",
    "    for item in impure_data:\n",
    "        #finding words which start with @\n",
    "        item = re.sub('@\\S+', '', item)\n",
    "        \n",
    "        #finding words which start with http\n",
    "        item = re.sub('http\\S+\\s*', '', item)\n",
    "        \n",
    "        #finding special characters, but not \"emoji\"\n",
    "        item = re.sub('[%s]' % re.escape(\"\"\"!\"#$%&'()*+,-./:;<=>?@[\\]^_`{|}~\"\"\"), '', item)\n",
    "        temp_list.append(item)\n",
    "    return temp_list"
   ]
  },
  {
   "cell_type": "markdown",
   "metadata": {},
   "source": [
    "### Let us create a simple SVM model with tfidf vectorizer"
   ]
  },
  {
   "cell_type": "code",
   "execution_count": 6,
   "metadata": {
    "execution": {
     "iopub.execute_input": "2021-11-08T13:01:38.628909Z",
     "iopub.status.busy": "2021-11-08T13:01:38.628542Z",
     "iopub.status.idle": "2021-11-08T13:01:38.642809Z",
     "shell.execute_reply": "2021-11-08T13:01:38.641588Z",
     "shell.execute_reply.started": "2021-11-08T13:01:38.628866Z"
    }
   },
   "outputs": [],
   "source": [
    "def headline_sentiment(df):\n",
    "    headlines = df[\"News\"]\n",
    "    polarity = df[\"Price Sentiment\"].tolist()\n",
    "    \n",
    "    #cleaning headlines i.e. removing @mentions, http(s) links and special characters such as punctuations\n",
    "    clean_headline = cleaner(headlines)\n",
    "    \n",
    "    #initializing tf-idf vectorizer\n",
    "    tf_idfvectorizer = TfidfVectorizer(sublinear_tf=True, use_idf=True)\n",
    "    \n",
    "    #splitting the data into train and test dataset in 70 : 30 ratio at random\n",
    "    X_train, X_test, Y_train, Y_test = train_test_split(clean_headline, polarity, test_size = 0.3)\n",
    "    \n",
    "    train_corpus_tf_idf = tf_idfvectorizer.fit_transform(X_train) \n",
    "    test_corpus_tf_idf = tf_idfvectorizer.transform(X_test)\n",
    "    \n",
    "    #using SVC package to initialize a classifier with Linear kernel and other default parameters\n",
    "    SVM_L = SVC(kernel= 'linear')\n",
    "    \n",
    "    #fitting the sparse matrix in the classifier with their respective sentiments\n",
    "    SVM_L.fit(train_corpus_tf_idf, Y_train)\n",
    "    \n",
    "    #predicting the sentiments for the test dataset\n",
    "    Y_pred = SVM_L.predict(test_corpus_tf_idf)\n",
    "    \n",
    "    #this prints accuracy score for the test dataset\n",
    "    print(\"Testing Accuracy:\",accuracy_score(Y_test,Y_pred))\n",
    "    \n",
    "    #this prints confusion matrix for the test dataset\n",
    "    labels = np.unique(Y_test)    \n",
    "    m = confusion_matrix(Y_test,Y_pred, labels=labels)\n",
    "    print(\"\\nConfusion matrix on test data\")\n",
    "    cm = pd.DataFrame(m, index=labels, columns=labels)\n",
    "    cm.index = \"Actual: \" + cm.index\n",
    "    cm.columns = \"Predicted: \" + cm.columns\n",
    "    display(cm)\n",
    "    \n",
    "    #saving the data into a csv file in the current folder\n",
    "    temp_df = pd.DataFrame()\n",
    "    temp_df[\"News\"] = X_test\n",
    "    temp_df[\"Actual Price Sentiment\"] = Y_test\n",
    "    temp_df[\"Predicted Sentiment\"] = Y_pred\n",
    "    temp_df.to_csv(\"predicted.csv\")\n",
    "    \n",
    "    print('Predictions on Test Data are as follows:')\n",
    "    display(temp_df)\n",
    "\n",
    "    return(tf_idfvectorizer,SVM_L)"
   ]
  },
  {
   "cell_type": "code",
   "execution_count": 7,
   "metadata": {
    "execution": {
     "iopub.execute_input": "2021-11-08T13:01:39.116509Z",
     "iopub.status.busy": "2021-11-08T13:01:39.116177Z",
     "iopub.status.idle": "2021-11-08T13:01:42.321567Z",
     "shell.execute_reply": "2021-11-08T13:01:42.320153Z",
     "shell.execute_reply.started": "2021-11-08T13:01:39.116477Z"
    }
   },
   "outputs": [
    {
     "name": "stdout",
     "output_type": "stream",
     "text": [
      "Testing Accuracy: 0.9186361875242154\n",
      "\n",
      "Confusion matrix on test data\n"
     ]
    },
    {
     "data": {
      "text/html": [
       "<div>\n",
       "<style scoped>\n",
       "    .dataframe tbody tr th:only-of-type {\n",
       "        vertical-align: middle;\n",
       "    }\n",
       "\n",
       "    .dataframe tbody tr th {\n",
       "        vertical-align: top;\n",
       "    }\n",
       "\n",
       "    .dataframe thead th {\n",
       "        text-align: right;\n",
       "    }\n",
       "</style>\n",
       "<table border=\"1\" class=\"dataframe\">\n",
       "  <thead>\n",
       "    <tr style=\"text-align: right;\">\n",
       "      <th></th>\n",
       "      <th>Predicted: negative</th>\n",
       "      <th>Predicted: neutral</th>\n",
       "      <th>Predicted: positive</th>\n",
       "    </tr>\n",
       "  </thead>\n",
       "  <tbody>\n",
       "    <tr>\n",
       "      <th>Actual: negative</th>\n",
       "      <td>1053</td>\n",
       "      <td>10</td>\n",
       "      <td>95</td>\n",
       "    </tr>\n",
       "    <tr>\n",
       "      <th>Actual: neutral</th>\n",
       "      <td>13</td>\n",
       "      <td>72</td>\n",
       "      <td>21</td>\n",
       "    </tr>\n",
       "    <tr>\n",
       "      <th>Actual: positive</th>\n",
       "      <td>61</td>\n",
       "      <td>10</td>\n",
       "      <td>1246</td>\n",
       "    </tr>\n",
       "  </tbody>\n",
       "</table>\n",
       "</div>"
      ],
      "text/plain": [
       "                  Predicted: negative  Predicted: neutral  Predicted: positive\n",
       "Actual: negative                 1053                  10                   95\n",
       "Actual: neutral                    13                  72                   21\n",
       "Actual: positive                   61                  10                 1246"
      ]
     },
     "metadata": {},
     "output_type": "display_data"
    },
    {
     "name": "stdout",
     "output_type": "stream",
     "text": [
      "Predictions on Test Data are as follows:\n"
     ]
    },
    {
     "data": {
      "text/html": [
       "<div>\n",
       "<style scoped>\n",
       "    .dataframe tbody tr th:only-of-type {\n",
       "        vertical-align: middle;\n",
       "    }\n",
       "\n",
       "    .dataframe tbody tr th {\n",
       "        vertical-align: top;\n",
       "    }\n",
       "\n",
       "    .dataframe thead th {\n",
       "        text-align: right;\n",
       "    }\n",
       "</style>\n",
       "<table border=\"1\" class=\"dataframe\">\n",
       "  <thead>\n",
       "    <tr style=\"text-align: right;\">\n",
       "      <th></th>\n",
       "      <th>News</th>\n",
       "      <th>Actual Price Sentiment</th>\n",
       "      <th>Predicted Sentiment</th>\n",
       "    </tr>\n",
       "  </thead>\n",
       "  <tbody>\n",
       "    <tr>\n",
       "      <th>0</th>\n",
       "      <td>dec gold closes at 410oz up 5 for the session</td>\n",
       "      <td>positive</td>\n",
       "      <td>positive</td>\n",
       "    </tr>\n",
       "    <tr>\n",
       "      <th>1</th>\n",
       "      <td>dec gold ends down 1550 or 21 at 73850 an ounce</td>\n",
       "      <td>negative</td>\n",
       "      <td>negative</td>\n",
       "    </tr>\n",
       "    <tr>\n",
       "      <th>2</th>\n",
       "      <td>buy gold on every dip kaushal jaini</td>\n",
       "      <td>negative</td>\n",
       "      <td>negative</td>\n",
       "    </tr>\n",
       "    <tr>\n",
       "      <th>3</th>\n",
       "      <td>Dec gold settles at 120980oz on Comex up 110 o...</td>\n",
       "      <td>positive</td>\n",
       "      <td>positive</td>\n",
       "    </tr>\n",
       "    <tr>\n",
       "      <th>4</th>\n",
       "      <td>Gold prices down further on unexpected drop in...</td>\n",
       "      <td>negative</td>\n",
       "      <td>negative</td>\n",
       "    </tr>\n",
       "    <tr>\n",
       "      <th>...</th>\n",
       "      <td>...</td>\n",
       "      <td>...</td>\n",
       "      <td>...</td>\n",
       "    </tr>\n",
       "    <tr>\n",
       "      <th>2576</th>\n",
       "      <td>gold futures end lower as oil tumbles dollar g...</td>\n",
       "      <td>negative</td>\n",
       "      <td>negative</td>\n",
       "    </tr>\n",
       "    <tr>\n",
       "      <th>2577</th>\n",
       "      <td>Gold futures pare losses slightly after durabl...</td>\n",
       "      <td>negative</td>\n",
       "      <td>negative</td>\n",
       "    </tr>\n",
       "    <tr>\n",
       "      <th>2578</th>\n",
       "      <td>gold settles 02 lower at 124810 an ounce</td>\n",
       "      <td>negative</td>\n",
       "      <td>negative</td>\n",
       "    </tr>\n",
       "    <tr>\n",
       "      <th>2579</th>\n",
       "      <td>Gold firms up by Rs 125 per 10 gm silver remai...</td>\n",
       "      <td>positive</td>\n",
       "      <td>neutral</td>\n",
       "    </tr>\n",
       "    <tr>\n",
       "      <th>2580</th>\n",
       "      <td>Gold futures turn lower just ahead of the sett...</td>\n",
       "      <td>negative</td>\n",
       "      <td>negative</td>\n",
       "    </tr>\n",
       "  </tbody>\n",
       "</table>\n",
       "<p>2581 rows × 3 columns</p>\n",
       "</div>"
      ],
      "text/plain": [
       "                                                   News  \\\n",
       "0         dec gold closes at 410oz up 5 for the session   \n",
       "1       dec gold ends down 1550 or 21 at 73850 an ounce   \n",
       "2                   buy gold on every dip kaushal jaini   \n",
       "3     Dec gold settles at 120980oz on Comex up 110 o...   \n",
       "4     Gold prices down further on unexpected drop in...   \n",
       "...                                                 ...   \n",
       "2576  gold futures end lower as oil tumbles dollar g...   \n",
       "2577  Gold futures pare losses slightly after durabl...   \n",
       "2578           gold settles 02 lower at 124810 an ounce   \n",
       "2579  Gold firms up by Rs 125 per 10 gm silver remai...   \n",
       "2580  Gold futures turn lower just ahead of the sett...   \n",
       "\n",
       "     Actual Price Sentiment Predicted Sentiment  \n",
       "0                  positive            positive  \n",
       "1                  negative            negative  \n",
       "2                  negative            negative  \n",
       "3                  positive            positive  \n",
       "4                  negative            negative  \n",
       "...                     ...                 ...  \n",
       "2576               negative            negative  \n",
       "2577               negative            negative  \n",
       "2578               negative            negative  \n",
       "2579               positive             neutral  \n",
       "2580               negative            negative  \n",
       "\n",
       "[2581 rows x 3 columns]"
      ]
     },
     "metadata": {},
     "output_type": "display_data"
    }
   ],
   "source": [
    "vectorizer,model = headline_sentiment(df)"
   ]
  },
  {
   "cell_type": "markdown",
   "metadata": {
    "execution": {
     "iopub.execute_input": "2021-09-26T12:03:41.781698Z",
     "iopub.status.busy": "2021-09-26T12:03:41.781399Z",
     "iopub.status.idle": "2021-09-26T12:03:41.789003Z",
     "shell.execute_reply": "2021-09-26T12:03:41.788467Z",
     "shell.execute_reply.started": "2021-09-26T12:03:41.781666Z"
    }
   },
   "source": [
    "### Important\n",
    "* Looking at the confusion matrix, it  is clear that the performance on neutral will be poor. \n",
    "* Positive and negative headlines are likely to be identified correctly"
   ]
  },
  {
   "cell_type": "code",
   "execution_count": 8,
   "metadata": {
    "execution": {
     "iopub.execute_input": "2021-11-08T13:01:42.324128Z",
     "iopub.status.busy": "2021-11-08T13:01:42.323832Z",
     "iopub.status.idle": "2021-11-08T13:01:42.336598Z",
     "shell.execute_reply": "2021-11-08T13:01:42.335438Z",
     "shell.execute_reply.started": "2021-11-08T13:01:42.324097Z"
    }
   },
   "outputs": [
    {
     "name": "stdout",
     "output_type": "stream",
     "text": [
      "['positive']\n"
     ]
    }
   ],
   "source": [
    "#Trying sample headlines\n",
    "vector = vectorizer.transform([\"\"])\n",
    "sentiment = model.predict(vector)\n",
    "print(sentiment)"
   ]
  },
  {
   "cell_type": "code",
   "execution_count": 9,
   "metadata": {
    "execution": {
     "iopub.execute_input": "2021-11-08T13:01:42.338335Z",
     "iopub.status.busy": "2021-11-08T13:01:42.338039Z",
     "iopub.status.idle": "2021-11-08T13:01:42.358254Z",
     "shell.execute_reply": "2021-11-08T13:01:42.356589Z",
     "shell.execute_reply.started": "2021-11-08T13:01:42.338302Z"
    }
   },
   "outputs": [
    {
     "name": "stdout",
     "output_type": "stream",
     "text": [
      "['negative']\n"
     ]
    }
   ],
   "source": [
    "#Trying sample headlines\n",
    "vector = vectorizer.transform([\"The price of gold continues declining.\"])\n",
    "sentiment = model.predict(vector)\n",
    "print(sentiment)"
   ]
  },
  {
   "cell_type": "code",
   "execution_count": 10,
   "metadata": {
    "execution": {
     "iopub.execute_input": "2021-11-08T13:01:42.360827Z",
     "iopub.status.busy": "2021-11-08T13:01:42.360351Z",
     "iopub.status.idle": "2021-11-08T13:01:42.377625Z",
     "shell.execute_reply": "2021-11-08T13:01:42.376807Z",
     "shell.execute_reply.started": "2021-11-08T13:01:42.360794Z"
    }
   },
   "outputs": [
    {
     "name": "stdout",
     "output_type": "stream",
     "text": [
      "['positive']\n"
     ]
    }
   ],
   "source": [
    "#Trying sample headlines\n",
    "vector = vectorizer.transform([\" gold in good demand ahead of FOMC.\"])\n",
    "sentiment = model.predict(vector)\n",
    "print(sentiment)"
   ]
  },
  {
   "cell_type": "code",
   "execution_count": 11,
   "metadata": {
    "execution": {
     "iopub.execute_input": "2021-11-08T13:01:42.379591Z",
     "iopub.status.busy": "2021-11-08T13:01:42.379131Z",
     "iopub.status.idle": "2021-11-08T13:01:42.398298Z",
     "shell.execute_reply": "2021-11-08T13:01:42.397146Z",
     "shell.execute_reply.started": "2021-11-08T13:01:42.379556Z"
    }
   },
   "outputs": [
    {
     "name": "stdout",
     "output_type": "stream",
     "text": [
      "['neutral']\n"
     ]
    }
   ],
   "source": [
    "#Trying sample headlines\n",
    "vector = vectorizer.transform([\"Gold price expected to remain steady.\"])\n",
    "sentiment = model.predict(vector)\n",
    "print(sentiment)"
   ]
  },
  {
   "cell_type": "markdown",
   "metadata": {
    "execution": {
     "iopub.execute_input": "2021-09-26T12:03:23.50071Z",
     "iopub.status.busy": "2021-09-26T12:03:23.500107Z",
     "iopub.status.idle": "2021-09-26T12:03:23.504548Z",
     "shell.execute_reply": "2021-09-26T12:03:23.503794Z",
     "shell.execute_reply.started": "2021-09-26T12:03:23.50067Z"
    }
   },
   "source": [
    "### Try sentence transformers to get extraordinary improvement in results"
   ]
  },
  {
   "cell_type": "code",
   "execution_count": null,
   "metadata": {},
   "outputs": [],
   "source": []
  }
 ],
 "metadata": {
  "kernelspec": {
   "display_name": "Python 3 (ipykernel)",
   "language": "python",
   "name": "python3"
  },
  "language_info": {
   "codemirror_mode": {
    "name": "ipython",
    "version": 3
   },
   "file_extension": ".py",
   "mimetype": "text/x-python",
   "name": "python",
   "nbconvert_exporter": "python",
   "pygments_lexer": "ipython3",
   "version": "3.9.12"
  }
 },
 "nbformat": 4,
 "nbformat_minor": 4
}
