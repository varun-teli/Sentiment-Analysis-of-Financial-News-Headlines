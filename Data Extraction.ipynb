{
 "cells": [
  {
   "cell_type": "code",
   "execution_count": 17,
   "id": "9acf7a79",
   "metadata": {},
   "outputs": [
    {
     "name": "stdout",
     "output_type": "stream",
     "text": [
      "Data has been scraped and saved to dailyfx_headlines.csv.\n"
     ]
    }
   ],
   "source": [
    "import requests\n",
    "from bs4 import BeautifulSoup\n",
    "import pandas as pd\n",
    "\n",
    "# Initialize a list to store the headlines\n",
    "all_headlines = []\n",
    "\n",
    "# Loop through the first 5 pages (you can adjust the range as needed)\n",
    "for page_number in range(1, 30):\n",
    "    # Define the URL of the page\n",
    "    url = f'https://www.dailyfx.com/market-news/articles?page={page_number}'\n",
    "\n",
    "    # Send an HTTP GET request to the URL\n",
    "    response = requests.get(url)\n",
    "\n",
    "    # Check if the request was successful (status code 200)\n",
    "    if response.status_code == 200:\n",
    "        # Parse the HTML content of the page using BeautifulSoup\n",
    "        soup = BeautifulSoup(response.text, 'html.parser')\n",
    "\n",
    "        # Find the HTML elements that contain the news headlines\n",
    "        headlines = soup.find_all('span', class_='dfx-articleListItem__title jsdfx-articleListItem__title font-weight-bold align-middle')\n",
    "\n",
    "        # Extract and append the headlines to the all_headlines list\n",
    "        for headline in headlines:\n",
    "            all_headlines.append(headline.text.strip())\n",
    "\n",
    "# Create a DataFrame to store the data\n",
    "df = pd.DataFrame({'Headlines': all_headlines})\n",
    "\n",
    "# Save the DataFrame to a CSV file\n",
    "df.to_csv('gold headlines.csv', index=False)\n",
    "\n",
    "print('Data has been scraped and saved to dailyfx_headlines.csv.')\n"
   ]
  }
 ],
 "metadata": {
  "kernelspec": {
   "display_name": "Python 3 (ipykernel)",
   "language": "python",
   "name": "python3"
  },
  "language_info": {
   "codemirror_mode": {
    "name": "ipython",
    "version": 3
   },
   "file_extension": ".py",
   "mimetype": "text/x-python",
   "name": "python",
   "nbconvert_exporter": "python",
   "pygments_lexer": "ipython3",
   "version": "3.9.12"
  }
 },
 "nbformat": 4,
 "nbformat_minor": 5
}
